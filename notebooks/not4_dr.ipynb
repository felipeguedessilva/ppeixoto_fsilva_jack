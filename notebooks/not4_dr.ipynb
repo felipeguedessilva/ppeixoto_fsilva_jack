{
 "cells": [
  {
   "cell_type": "markdown",
   "metadata": {},
   "source": [
    "# Dispersion Analysis: Fornberg vs. DRP Stencils"
   ]
  },
  {
   "cell_type": "code",
   "execution_count": 1,
   "metadata": {},
   "outputs": [],
   "source": [
    "import numpy as np\n",
    "import scipy as sp\n",
    "import sympy as sym\n",
    "import matplotlib.colors as colors\n",
    "import matplotlib.pyplot as plt\n",
    "from functools import partial\n",
    "from matplotlib import patheffects\n",
    "from numpy import linalg as la"
   ]
  },
  {
   "cell_type": "code",
   "execution_count": 2,
   "metadata": {},
   "outputs": [],
   "source": [
    "from devito import Grid, Function, TimeFunction, SparseTimeFunction, Eq, Operator, solve"
   ]
  },
  {
   "cell_type": "code",
   "execution_count": 3,
   "metadata": {},
   "outputs": [],
   "source": [
    "normtype  = 2"
   ]
  },
  {
   "cell_type": "markdown",
   "metadata": {},
   "source": [
    "## 1. Problem Setup"
   ]
  },
  {
   "cell_type": "code",
   "execution_count": 4,
   "metadata": {},
   "outputs": [],
   "source": [
    "def ricker(t, f=10, A=1):\n",
    "    trm = (np.pi * f * (t - 1 / f)) ** 2\n",
    "    return A * (1 - 2 * trm) * np.exp(-trm)"
   ]
  },
  {
   "cell_type": "code",
   "execution_count": 5,
   "metadata": {},
   "outputs": [],
   "source": [
    "f0      = 30\n",
    "extent  = 1000\n",
    "vval    = 1500\n",
    "t1      = 0.6\n",
    "npoints = 201\n",
    "h       = extent/(npoints-1)"
   ]
  },
  {
   "cell_type": "code",
   "execution_count": 6,
   "metadata": {},
   "outputs": [],
   "source": [
    "def critical_dt(weights,h,vmax):\n",
    "    \n",
    "    a = (h/vmax)*np.sqrt(2/np.sum([np.abs(a) for a in weights]))\n",
    "    \n",
    "    return float(a)"
   ]
  },
  {
   "cell_type": "code",
   "execution_count": 7,
   "metadata": {},
   "outputs": [],
   "source": [
    "def critical_h(weights,dt,vmax):\n",
    "\n",
    "    a = np.sqrt(2/np.sum([np.abs(a) for a in weights]))/(vmax*dt)\n",
    "    b = 1/a\n",
    "    \n",
    "    return float(b)"
   ]
  },
  {
   "cell_type": "code",
   "execution_count": 8,
   "metadata": {},
   "outputs": [],
   "source": [
    "def acoustic(weights,h,dt,v,f,extent,t1,factor=1):\n",
    "\n",
    "    origin = (0., 0.)\n",
    "    grid_extent = (extent, extent)\n",
    "    sn = int(np.ceil((grid_extent[0] - origin[0])/h))+1\n",
    "    shape = (sn, sn)\n",
    "\n",
    "    t0 = 0\n",
    "    tn = int(np.ceil((t1 - t0)/dt))\n",
    "\n",
    "    r = v*dt/h\n",
    "\n",
    "    weights = np.concatenate([weights[::-1], weights[1:]])\n",
    "    space_order = len(weights) - 1\n",
    "\n",
    "    sx = grid_extent[0]/2 - origin[0]\n",
    "    sy = grid_extent[1]/2 - origin[1]\n",
    "\n",
    "    grid = Grid(shape=shape, extent=grid_extent)\n",
    "    x, y = grid.dimensions\n",
    "\n",
    "    velocity = Function(name=\"velocity\", grid=grid, space_order=space_order)\n",
    "    velocity.data[:] = v\n",
    "\n",
    "    t = np.linspace(t0, t1, tn)\n",
    "    source = SparseTimeFunction(\n",
    "        name=\"ricker\",\n",
    "        npoint=1,\n",
    "        coordinates=[(sx, sy)],\n",
    "        nt=tn,\n",
    "        grid=grid,\n",
    "        time_order=2,\n",
    "        space_order=space_order\n",
    "    )\n",
    "    source.data[:, 0] = ricker(t, f=f)\n",
    "\n",
    "    nrecv = 101\n",
    "    rx = np.linspace(origin[0], grid_extent[0], nrecv)\n",
    "    ry = 0.02*grid_extent[1]*np.ones(nrecv)\n",
    "    receiver = SparseTimeFunction(\n",
    "        name=\"recv\",\n",
    "        npoint=nrecv,\n",
    "        coordinates=np.array([rx, ry]).T,\n",
    "        nt=tn,\n",
    "        grid=grid\n",
    "    )\n",
    "\n",
    "    u = TimeFunction(name=\"u\", grid=grid, time_order=2, space_order=space_order)\n",
    "\n",
    "    pde = (1/velocity**2)*u.dt2 - u.dx2(weights=weights) - u.dy2(weights=weights)\n",
    "    stencil = Eq(u.forward, solve(pde, u.forward))\n",
    "\n",
    "    src_term = source.inject(field=u.forward, expr=source*factor*factor*velocity*velocity*dt*dt)\n",
    "    recv_term = receiver.interpolate(expr=u.forward)\n",
    "    op = Operator([stencil] + src_term + recv_term, subs=grid.spacing_map)\n",
    "    op(time=tn - 1, dt=dt)\n",
    "\n",
    "    return u.data[-1], receiver.data, r"
   ]
  },
  {
   "cell_type": "code",
   "execution_count": 9,
   "metadata": {},
   "outputs": [],
   "source": [
    "def plot_wave(u, ax, clip, extent, hline,r): \n",
    "    extents=(0, extent, 0, extent)\n",
    "    ax.imshow(\n",
    "        u.T,\n",
    "        extent=extents,\n",
    "        cmap='seismic',\n",
    "        vmin=-clip,\n",
    "        vmax=clip\n",
    "    )\n",
    "    ax.invert_yaxis()\n",
    "    ax.set_xlabel('x')\n",
    "    ax.set_ylabel('y')\n",
    "    ax.set_title(f'{r = :.3g}')\n",
    "    len(hline) == 4\n",
    "    ax.plot(\n",
    "        (hline[0], hline[2]),\n",
    "        (hline[1], hline[3]),\n",
    "        'g--', lw=2\n",
    "    )"
   ]
  },
  {
   "cell_type": "code",
   "execution_count": 10,
   "metadata": {},
   "outputs": [],
   "source": [
    "def plot_profile(array,ax,clip,extent,first_arrival):\n",
    "    \n",
    "    axis_labels=('x', 'A')\n",
    "    \n",
    "    ax.plot(np.linspace(extent[0], extent[1], array.size), array)\n",
    "    ax.set_xlim(extent)\n",
    "    ax.set_ylim((-clip, clip))\n",
    "    ax.set_aspect((extent[1] - extent[0])/(2*clip))\n",
    "    \n",
    "    if first_arrival is not None:\n",
    "        ax.axvline(first_arrival, c='red', ls='--', lw=1)\n",
    "        ax.annotate(f'first arrival',\n",
    "            xy=(first_arrival, 0), xycoords='data',\n",
    "            xytext=(-70, 5), textcoords='offset points', fontsize=12, color='red'\n",
    "        )\n",
    "    \n",
    "    ax.set_xlabel(axis_labels[0])\n",
    "    ax.set_ylabel(axis_labels[1])"
   ]
  },
  {
   "cell_type": "code",
   "execution_count": 11,
   "metadata": {},
   "outputs": [],
   "source": [
    "def plot_shot(data, ax, clip,extent,t1,vline,r,first_arrival):\n",
    "    \n",
    "    extents=(0,extent,0,t1)\n",
    "    \n",
    "    ax.imshow(\n",
    "        data[::-1,:],\n",
    "        extent=extents,\n",
    "        vmin=-clip,\n",
    "        vmax=clip,\n",
    "        cmap='grey',\n",
    "        aspect=(extents[1] - extents[0])/(extents[3] - extents[2]),\n",
    "    )\n",
    "    ax.invert_yaxis()\n",
    "    ax.set_xlabel('x')\n",
    "    ax.set_ylabel('t')\n",
    "\n",
    "    arrival = None\n",
    "    \n",
    "    if isinstance(first_arrival, np.ndarray) or first_arrival:\n",
    "        time = np.linspace(extents[2], extents[3], data.shape[0])\n",
    "        space = np.linspace(extents[0], extents[1], data.shape[1])\n",
    "        if not isinstance(first_arrival, np.ndarray):\n",
    "            arrival = time[np.argmax(np.abs(data)>0.01, axis=0)]\n",
    "            ax.plot(space, arrival, c='red', lw=1)\n",
    "            ax.annotate(f'first arrival',\n",
    "                xy=((extents[1] - extents[0])/2, arrival[arrival.size//2]), xycoords='data',\n",
    "                xytext=(5, 5), textcoords='offset points', fontsize=12, color='red',\n",
    "                path_effects=[patheffects.withStroke(linewidth=2, foreground=\"k\")]\n",
    "            )\n",
    "        else:\n",
    "            ax.plot(space, first_arrival, c='red', lw=1)\n",
    "    \n",
    "    ax.set_title(f'{r = :.3g}')\n",
    "    assert len(vline) == 4\n",
    "    ax.plot(\n",
    "        (vline[0], vline[2]),\n",
    "        (vline[1], vline[3]),\n",
    "        'g--', lw=2\n",
    "    )\n",
    "    \n",
    "    return arrival"
   ]
  },
  {
   "cell_type": "code",
   "execution_count": 12,
   "metadata": {},
   "outputs": [],
   "source": [
    "def critical_cfl(weights,h,dt,vmax):\n",
    "\n",
    "    limit  = np.sqrt(2/np.sum([np.abs(a) for a in weights]))\n",
    "    rvalue = (dt*vmax)/h\n",
    "\n",
    "    print('Limit Value: %f'%limit)\n",
    "    print('RVALUE: %f'%rvalue)\n",
    "    \n",
    "    if(limit>rvalue): \n",
    "        \n",
    "        print('Stable Choice of weights,h,dt and vel!')\n",
    "        print('')\n",
    "\n",
    "    else:\n",
    "\n",
    "        print('WARNING!\"')\n",
    "        print('Unstable Choice of weights, h,dt and vel!')\n",
    "        print('')\n",
    "        \n",
    "    return"
   ]
  },
  {
   "cell_type": "code",
   "execution_count": 13,
   "metadata": {},
   "outputs": [
    {
     "data": {
      "text/plain": [
       "np.float64(0.0020311336882842547)"
      ]
     },
     "execution_count": 13,
     "metadata": {},
     "output_type": "execute_result"
    }
   ],
   "source": [
    "dtlist = []\n",
    "\n",
    "for k1 in range(0,10):\n",
    "\n",
    "    M = k1+1\n",
    "    N = 2\n",
    "    x = [(1-(-1)**n*(2*n+1))//4 for n in range(2*M + 1)]\n",
    "    weights = sym.finite_diff_weights(N, x, 0)\n",
    "    fornberg = np.array(weights[-1][-1][::2], dtype=np.float64)\n",
    "    dtnew1 = critical_dt(fornberg,h,vval)\n",
    "    dtlist.append(dtnew1)\n",
    "\n",
    "vdtlist = np.array(dtlist)\n",
    "dtnew   = np.amin(vdtlist)\n",
    "dtnew"
   ]
  },
  {
   "cell_type": "code",
   "execution_count": 14,
   "metadata": {},
   "outputs": [],
   "source": [
    "dtnew = 10**(-3)"
   ]
  },
  {
   "cell_type": "code",
   "execution_count": 15,
   "metadata": {},
   "outputs": [
    {
     "name": "stdout",
     "output_type": "stream",
     "text": [
      "Limit Value: 0.609340\n",
      "RVALUE: 0.300000\n",
      "Stable Choice of weights,h,dt and vel!\n",
      "\n"
     ]
    }
   ],
   "source": [
    "M = 10\n",
    "x = [(1-(-1)**n*(2*n+1))//4 for n in range(2*M + 1)]\n",
    "N = 2\n",
    "weightsref  = sym.finite_diff_weights(N, x, 0)\n",
    "fornbergref = np.array(weightsref[-1][-1][::2], dtype=np.float64)\n",
    "critical_cfl(fornbergref,h/16,dtnew/16,vval)"
   ]
  },
  {
   "cell_type": "code",
   "execution_count": 16,
   "metadata": {},
   "outputs": [
    {
     "name": "stderr",
     "output_type": "stream",
     "text": [
      "Operator `Kernel` ran in 167.99 s\n"
     ]
    }
   ],
   "source": [
    "uref,dataref,rref = acoustic(fornbergref,h/16,dtnew/16,vval,f0,extent,t1,factor=16)"
   ]
  },
  {
   "cell_type": "code",
   "execution_count": 17,
   "metadata": {},
   "outputs": [],
   "source": [
    "mvalues  = [1,2,3,4,5,6,7,8,9,10]\n",
    "nmavlues = len(mvalues)"
   ]
  },
  {
   "cell_type": "markdown",
   "metadata": {},
   "source": [
    "## 2. Fornberg"
   ]
  },
  {
   "cell_type": "code",
   "execution_count": 18,
   "metadata": {},
   "outputs": [
    {
     "name": "stderr",
     "output_type": "stream",
     "text": [
      "Operator `Kernel` ran in 0.01 s\n"
     ]
    },
    {
     "name": "stdout",
     "output_type": "stream",
     "text": [
      "Limit Value: 0.816497\n",
      "RVALUE: 0.300000\n",
      "Stable Choice of weights,h,dt and vel!\n",
      "\n"
     ]
    },
    {
     "name": "stderr",
     "output_type": "stream",
     "text": [
      "Operator `Kernel` ran in 0.02 s\n"
     ]
    },
    {
     "name": "stdout",
     "output_type": "stream",
     "text": [
      "Limit Value: 0.714590\n",
      "RVALUE: 0.300000\n",
      "Stable Choice of weights,h,dt and vel!\n",
      "\n"
     ]
    },
    {
     "name": "stderr",
     "output_type": "stream",
     "text": [
      "Operator `Kernel` ran in 0.03 s\n"
     ]
    },
    {
     "name": "stdout",
     "output_type": "stream",
     "text": [
      "Limit Value: 0.675480\n",
      "RVALUE: 0.300000\n",
      "Stable Choice of weights,h,dt and vel!\n",
      "\n"
     ]
    },
    {
     "name": "stderr",
     "output_type": "stream",
     "text": [
      "Operator `Kernel` ran in 0.03 s\n"
     ]
    },
    {
     "name": "stdout",
     "output_type": "stream",
     "text": [
      "Limit Value: 0.654112\n",
      "RVALUE: 0.300000\n",
      "Stable Choice of weights,h,dt and vel!\n",
      "\n"
     ]
    },
    {
     "name": "stderr",
     "output_type": "stream",
     "text": [
      "Operator `Kernel` ran in 0.03 s\n"
     ]
    },
    {
     "name": "stdout",
     "output_type": "stream",
     "text": [
      "Limit Value: 0.640385\n",
      "RVALUE: 0.300000\n",
      "Stable Choice of weights,h,dt and vel!\n",
      "\n"
     ]
    },
    {
     "name": "stderr",
     "output_type": "stream",
     "text": [
      "Operator `Kernel` ran in 0.03 s\n"
     ]
    },
    {
     "name": "stdout",
     "output_type": "stream",
     "text": [
      "Limit Value: 0.630701\n",
      "RVALUE: 0.300000\n",
      "Stable Choice of weights,h,dt and vel!\n",
      "\n"
     ]
    },
    {
     "name": "stderr",
     "output_type": "stream",
     "text": [
      "Operator `Kernel` ran in 0.03 s\n"
     ]
    },
    {
     "name": "stdout",
     "output_type": "stream",
     "text": [
      "Limit Value: 0.623438\n",
      "RVALUE: 0.300000\n",
      "Stable Choice of weights,h,dt and vel!\n",
      "\n"
     ]
    },
    {
     "name": "stderr",
     "output_type": "stream",
     "text": [
      "Operator `Kernel` ran in 0.04 s\n"
     ]
    },
    {
     "name": "stdout",
     "output_type": "stream",
     "text": [
      "Limit Value: 0.617750\n",
      "RVALUE: 0.300000\n",
      "Stable Choice of weights,h,dt and vel!\n",
      "\n"
     ]
    },
    {
     "name": "stderr",
     "output_type": "stream",
     "text": [
      "Operator `Kernel` ran in 0.05 s\n"
     ]
    },
    {
     "name": "stdout",
     "output_type": "stream",
     "text": [
      "Limit Value: 0.613151\n",
      "RVALUE: 0.300000\n",
      "Stable Choice of weights,h,dt and vel!\n",
      "\n"
     ]
    },
    {
     "name": "stderr",
     "output_type": "stream",
     "text": [
      "Operator `Kernel` ran in 0.05 s\n"
     ]
    },
    {
     "name": "stdout",
     "output_type": "stream",
     "text": [
      "Limit Value: 0.609340\n",
      "RVALUE: 0.300000\n",
      "Stable Choice of weights,h,dt and vel!\n",
      "\n"
     ]
    }
   ],
   "source": [
    "luf   = []\n",
    "lrecf = []\n",
    "lrf   = []\n",
    "\n",
    "for k1 in range(0,nmavlues):\n",
    "\n",
    "    M = k1 + 1\n",
    "    x = [(1-(-1)**n*(2*n+1))//4 for n in range(2*M + 1)]\n",
    "    N = 2\n",
    "    weights     = sym.finite_diff_weights(N, x, 0)\n",
    "    fornberg    = np.array(weights[-1][-1][::2], dtype=np.float64)\n",
    "    uf,dataf,rf = acoustic(fornberg,h,dtnew,vval,f0,extent,t1)\n",
    "\n",
    "    luf.append(uf)\n",
    "    lrecf.append(dataf)\n",
    "    lrf.append(rf)\n",
    "    critical_cfl(fornberg,h,dtnew,vval)"
   ]
  },
  {
   "cell_type": "code",
   "execution_count": 19,
   "metadata": {},
   "outputs": [],
   "source": [
    "luref    = []\n",
    "lrecref  = []\n",
    "\n",
    "for k0 in range(0,1):\n",
    "\n",
    "    uloc    = luf[k0]\n",
    "    ratio   = int((uref.shape[0]-1)/(uloc.shape[0]-1))\n",
    "    urefloc = np.zeros((uloc.shape[0],uloc.shape[1]))\n",
    "    conty   = 0\n",
    "    \n",
    "    for k1 in range(0,uloc.shape[1]):\n",
    "\n",
    "        contx = 0\n",
    "        \n",
    "        for k2 in range(0,uloc.shape[0]):\n",
    "\n",
    "            urefloc[k2,k1] = uref[contx,conty]\n",
    "            \n",
    "            contx = contx + ratio\n",
    "\n",
    "        conty = conty + ratio\n",
    "\n",
    "    luref.append(urefloc)"
   ]
  },
  {
   "cell_type": "code",
   "execution_count": 20,
   "metadata": {},
   "outputs": [],
   "source": [
    "for k0 in range(0,1):\n",
    "\n",
    "    recloc    = lrecf[k0]\n",
    "    ratio     = int(dataref.shape[0]/recloc.shape[0])\n",
    "    recrefloc = np.zeros((recloc.shape[0],recloc.shape[1]))\n",
    "    cont      = 0\n",
    "    \n",
    "    for k1 in range(0,recloc.shape[0]):\n",
    "\n",
    "        contx            = 0\n",
    "        recrefloc[k1,:]  = dataref[cont,:]\n",
    "        cont             = cont + ratio\n",
    "        \n",
    "    lrecref.append(recrefloc)"
   ]
  },
  {
   "cell_type": "code",
   "execution_count": 21,
   "metadata": {},
   "outputs": [],
   "source": [
    "lnormuf   = []\n",
    "lnormrecf = []\n",
    "\n",
    "for k0 in range(0,nmavlues):\n",
    "    \n",
    "    difu   = luref[0] - luf[k0]\n",
    "    lnormu = la.norm(difu,normtype)/la.norm(luref[0],normtype)\n",
    "\n",
    "    difrec   = lrecref[0] - lrecf[k0]\n",
    "    lnormrec = la.norm(difrec,normtype)/la.norm(lrecref[0],normtype)\n",
    "\n",
    "    ctedt = np.sqrt(16/1)\n",
    "    ctedx = 16/1\n",
    "    cte   = ctedt*ctedx\n",
    "    \n",
    "    lnormuf.append(cte*lnormu)\n",
    "    lnormrecf.append(cte*lnormrec)"
   ]
  },
  {
   "cell_type": "code",
   "execution_count": 22,
   "metadata": {},
   "outputs": [
    {
     "data": {
      "image/png": "[encoded data removed]",
      "text/plain": [
       "<Figure size 500x400 with 1 Axes>"
      ]
     },
     "metadata": {},
     "output_type": "display_data"
    }
   ],
   "source": [
    "plt.figure(figsize = (5,4))\n",
    "plt.plot(mvalues,lnormuf,label='Fornberg')\n",
    "plt.grid()\n",
    "plt.legend()\n",
    "plt.title('Erro for M - Fornberg - Displacement')\n",
    "plt.xlabel('[rvalue]')\n",
    "plt.ylabel('[Error]')\n",
    "plt.show()"
   ]
  },
  {
   "cell_type": "code",
   "execution_count": 23,
   "metadata": {},
   "outputs": [
    {
     "data": {
      "image/png": "[encoded data removed]",
      "text/plain": [
       "<Figure size 500x400 with 1 Axes>"
      ]
     },
     "metadata": {},
     "output_type": "display_data"
    }
   ],
   "source": [
    "plt.figure(figsize = (5,4))\n",
    "plt.plot(mvalues,lnormrecf,label='Fornberg')\n",
    "plt.grid()\n",
    "plt.legend()\n",
    "plt.title('Erro for M - Fornberg - Receivers')\n",
    "plt.xlabel('[rvalue]')\n",
    "plt.ylabel('[Error]')\n",
    "plt.show()"
   ]
  },
  {
   "cell_type": "markdown",
   "metadata": {},
   "source": [
    "## 3. DPRS - Method 1"
   ]
  },
  {
   "cell_type": "code",
   "execution_count": 24,
   "metadata": {
    "tags": [
     "nbval-ignore-output"
    ]
   },
   "outputs": [],
   "source": [
    "def objective(a):\n",
    "    x = np.linspace(0, np.pi/2, 201)\n",
    "    m = np.arange(1, len(a) + 1)\n",
    "    y = x**2 + a[0] + 2*np.sum([a_ * np.cos(m_*x) for a_, m_ in zip(a[1:], m)], axis=0)\n",
    "    return sp.integrate.trapezoid(y**2, x=x)"
   ]
  },
  {
   "cell_type": "code",
   "execution_count": 25,
   "metadata": {},
   "outputs": [
    {
     "name": "stderr",
     "output_type": "stream",
     "text": [
      "Operator `Kernel` ran in 0.01 s\n"
     ]
    },
    {
     "name": "stdout",
     "output_type": "stream",
     "text": [
      "Limit Value: 0.816497\n",
      "RVALUE: 0.300000\n",
      "Stable Choice of weights,h,dt and vel!\n",
      "\n"
     ]
    },
    {
     "name": "stderr",
     "output_type": "stream",
     "text": [
      "Operator `Kernel` ran in 0.02 s\n"
     ]
    },
    {
     "name": "stdout",
     "output_type": "stream",
     "text": [
      "Limit Value: 0.690019\n",
      "RVALUE: 0.300000\n",
      "Stable Choice of weights,h,dt and vel!\n",
      "\n"
     ]
    },
    {
     "name": "stderr",
     "output_type": "stream",
     "text": [
      "Operator `Kernel` ran in 0.02 s\n"
     ]
    },
    {
     "name": "stdout",
     "output_type": "stream",
     "text": [
      "Limit Value: 0.653884\n",
      "RVALUE: 0.300000\n",
      "Stable Choice of weights,h,dt and vel!\n",
      "\n"
     ]
    },
    {
     "name": "stderr",
     "output_type": "stream",
     "text": [
      "Operator `Kernel` ran in 0.02 s\n"
     ]
    },
    {
     "name": "stdout",
     "output_type": "stream",
     "text": [
      "Limit Value: 0.638710\n",
      "RVALUE: 0.300000\n",
      "Stable Choice of weights,h,dt and vel!\n",
      "\n"
     ]
    },
    {
     "name": "stderr",
     "output_type": "stream",
     "text": [
      "Operator `Kernel` ran in 0.03 s\n"
     ]
    },
    {
     "name": "stdout",
     "output_type": "stream",
     "text": [
      "Limit Value: 0.625809\n",
      "RVALUE: 0.300000\n",
      "Stable Choice of weights,h,dt and vel!\n",
      "\n"
     ]
    },
    {
     "name": "stderr",
     "output_type": "stream",
     "text": [
      "Operator `Kernel` ran in 0.03 s\n"
     ]
    },
    {
     "name": "stdout",
     "output_type": "stream",
     "text": [
      "Limit Value: 0.630542\n",
      "RVALUE: 0.300000\n",
      "Stable Choice of weights,h,dt and vel!\n",
      "\n"
     ]
    },
    {
     "name": "stderr",
     "output_type": "stream",
     "text": [
      "Operator `Kernel` ran in 0.04 s\n"
     ]
    },
    {
     "name": "stdout",
     "output_type": "stream",
     "text": [
      "Limit Value: 0.623438\n",
      "RVALUE: 0.300000\n",
      "Stable Choice of weights,h,dt and vel!\n",
      "\n"
     ]
    },
    {
     "name": "stderr",
     "output_type": "stream",
     "text": [
      "Operator `Kernel` ran in 0.04 s\n"
     ]
    },
    {
     "name": "stdout",
     "output_type": "stream",
     "text": [
      "Limit Value: 0.617750\n",
      "RVALUE: 0.300000\n",
      "Stable Choice of weights,h,dt and vel!\n",
      "\n"
     ]
    },
    {
     "name": "stderr",
     "output_type": "stream",
     "text": [
      "Operator `Kernel` ran in 0.05 s\n"
     ]
    },
    {
     "name": "stdout",
     "output_type": "stream",
     "text": [
      "Limit Value: 0.613151\n",
      "RVALUE: 0.300000\n",
      "Stable Choice of weights,h,dt and vel!\n",
      "\n"
     ]
    },
    {
     "name": "stderr",
     "output_type": "stream",
     "text": [
      "Operator `Kernel` ran in 0.06 s\n"
     ]
    },
    {
     "name": "stdout",
     "output_type": "stream",
     "text": [
      "Limit Value: 0.609340\n",
      "RVALUE: 0.300000\n",
      "Stable Choice of weights,h,dt and vel!\n",
      "\n"
     ]
    }
   ],
   "source": [
    "ludrp1   = []\n",
    "lrecdrp1 = []\n",
    "lrdrp1   = []\n",
    "\n",
    "for k1 in range(0,nmavlues):\n",
    "\n",
    "    M = k1+1\n",
    "    x = [(1-(-1)**n*(2*n+1))//4 for n in range(2*M + 1)]\n",
    "    N = 2\n",
    "    weights     = sym.finite_diff_weights(N, x, 0)\n",
    "    fornberg    = np.array(weights[-1][-1][::2], dtype=np.float64)\n",
    "    \n",
    "    initial_guess = fornberg\n",
    "    \n",
    "    constraints = [{\n",
    "        'type': 'eq',\n",
    "        'fun': lambda x: x[0] + 2*np.sum(x[1:])\n",
    "    }]\n",
    "    constraints += [{\n",
    "        'type': 'eq',\n",
    "        'fun': lambda x: np.sum([xi*m**2 for m, xi in enumerate(x)]) - 1\n",
    "    }]\n",
    "    constraints += [{\n",
    "        'type': 'eq',\n",
    "        'fun': lambda x: np.sum([xi*m**(2*jj) for m, xi in enumerate(x)])\n",
    "    } for jj in range(2, (len(initial_guess) + 1)//2)]\n",
    "    \n",
    "    opt1 = sp.optimize.minimize(objective, initial_guess, method='SLSQP', constraints=constraints, options=dict(ftol=1e-15, maxiter=500))\n",
    "    drp_stencil1 = opt1.x\n",
    "\n",
    "    uf,dataf,rf = acoustic(drp_stencil1,h,dtnew,vval,f0,extent,t1)\n",
    "\n",
    "    ludrp1.append(uf)\n",
    "    lrecdrp1.append(dataf)\n",
    "    lrdrp1.append(rf)\n",
    "    critical_cfl(drp_stencil1,h,dtnew,vval)"
   ]
  },
  {
   "cell_type": "code",
   "execution_count": 26,
   "metadata": {},
   "outputs": [],
   "source": [
    "lnormudrp1   = []\n",
    "lnormrecdrp1 = []\n",
    "\n",
    "for k0 in range(0,nmavlues):\n",
    "    \n",
    "    difu   = luref[0] - ludrp1[k0]\n",
    "    lnormu = la.norm(difu,normtype)/la.norm(luref[0],normtype)\n",
    "\n",
    "    difrec   = lrecref[0] - lrecdrp1[k0]\n",
    "    lnormrec = la.norm(difrec,normtype)/la.norm(lrecref[0],normtype)\n",
    "    \n",
    "    ctedt = np.sqrt(16/1)\n",
    "    ctedx = 16/1\n",
    "    cte   = ctedt*ctedx\n",
    "    \n",
    "    lnormudrp1.append(cte*lnormu)\n",
    "    lnormrecdrp1.append(cte*lnormrec)"
   ]
  },
  {
   "cell_type": "code",
   "execution_count": 27,
   "metadata": {},
   "outputs": [
    {
     "data": {
      "image/png": "[encoded data removed]",
      "text/plain": [
       "<Figure size 500x400 with 1 Axes>"
      ]
     },
     "metadata": {},
     "output_type": "display_data"
    }
   ],
   "source": [
    "plt.figure(figsize = (5,4))\n",
    "plt.plot(mvalues,lnormudrp1,label='DRP1')\n",
    "plt.grid()\n",
    "plt.legend()\n",
    "plt.title('Erro for M - DRP1 - Displacement')\n",
    "plt.xlabel('[rvalue]')\n",
    "plt.ylabel('[Error]')\n",
    "plt.show()"
   ]
  },
  {
   "cell_type": "code",
   "execution_count": 28,
   "metadata": {},
   "outputs": [
    {
     "data": {
      "image/png": "[encoded data removed]",
      "text/plain": [
       "<Figure size 500x400 with 1 Axes>"
      ]
     },
     "metadata": {},
     "output_type": "display_data"
    }
   ],
   "source": [
    "mvalues = [1,2,3,4,5,6,7,8,9,10]\n",
    "plt.figure(figsize = (5,4))\n",
    "plt.plot(mvalues,lnormrecdrp1,label='DRP1')\n",
    "plt.grid()\n",
    "plt.legend()\n",
    "plt.title('Erro for M - DRP1 - Receivers')\n",
    "plt.xlabel('[rvalue]')\n",
    "plt.ylabel('[Error]')\n",
    "plt.show()"
   ]
  },
  {
   "cell_type": "markdown",
   "metadata": {},
   "source": [
    "## 4.DRPS - Method 2"
   ]
  },
  {
   "cell_type": "code",
   "execution_count": 29,
   "metadata": {},
   "outputs": [],
   "source": [
    "def dispersion_difference(weights, h, dt, v, k, alpha):\n",
    "    if k == 0:\n",
    "        diff = 0\n",
    "    else:\n",
    "        m = len(weights)\n",
    "        cosines = np.array([\n",
    "            np.cos(m*k*h*np.cos(alpha)) + np.cos(m*k*h*np.sin(alpha)) - 2\n",
    "            for m in range(1, m)\n",
    "        ])\n",
    "        total = np.sum(np.array(weights)[1:]*cosines)\n",
    "        theta = 1 + (v**2)*(dt**2)*total/(h**2)\n",
    "        diff = np.abs(np.acos(theta)/(k*dt) - v)\n",
    "    return diff"
   ]
  },
  {
   "cell_type": "code",
   "execution_count": 30,
   "metadata": {},
   "outputs": [],
   "source": [
    "def objective2(a, h, dt, fmax=100, vmin=1500, vmax=5500, alphamin=0, alphamax=np.pi/4, res=31):\n",
    "    diff_wrapper = partial(dispersion_difference, weights=a, h=h, dt=dt)\n",
    "\n",
    "    k_integral = np.zeros(res)\n",
    "    v_space = np.linspace(vmin, vmax, res)\n",
    "    alpha_space = np.linspace(alphamin, alphamax, res)\n",
    "    for ii, v in enumerate(v_space):\n",
    "        alpha_integral = np.zeros(res)\n",
    "        k_space = np.linspace(0, 2*np.pi*fmax/v, res)\n",
    "        for jj, k in enumerate(k_space):\n",
    "            alpha_data = np.array([\n",
    "                diff_wrapper(alpha=alpha, k=k, v=v) for alpha in alpha_space\n",
    "            ])\n",
    "            alpha_integral[jj] = np.trapezoid(alpha_data, alpha_space)\n",
    "        k_integral[ii] = np.trapezoid(alpha_integral, k_space)\n",
    "    v_integral = np.trapezoid(k_integral, v_space)\n",
    "\n",
    "    return v_integral"
   ]
  },
  {
   "cell_type": "code",
   "execution_count": 31,
   "metadata": {},
   "outputs": [
    {
     "name": "stderr",
     "output_type": "stream",
     "text": [
      "Operator `Kernel` ran in 0.02 s\n"
     ]
    },
    {
     "name": "stdout",
     "output_type": "stream",
     "text": [
      "Limit Value: 0.816497\n",
      "RVALUE: 0.300000\n",
      "Stable Choice of weights,h,dt and vel!\n",
      "\n"
     ]
    },
    {
     "name": "stderr",
     "output_type": "stream",
     "text": [
      "Operator `Kernel` ran in 0.02 s\n"
     ]
    },
    {
     "name": "stdout",
     "output_type": "stream",
     "text": [
      "Limit Value: 0.714590\n",
      "RVALUE: 0.300000\n",
      "Stable Choice of weights,h,dt and vel!\n",
      "\n"
     ]
    },
    {
     "name": "stderr",
     "output_type": "stream",
     "text": [
      "Operator `Kernel` ran in 0.02 s\n"
     ]
    },
    {
     "name": "stdout",
     "output_type": "stream",
     "text": [
      "Limit Value: 0.675480\n",
      "RVALUE: 0.300000\n",
      "Stable Choice of weights,h,dt and vel!\n",
      "\n"
     ]
    },
    {
     "name": "stderr",
     "output_type": "stream",
     "text": [
      "Operator `Kernel` ran in 0.02 s\n"
     ]
    },
    {
     "name": "stdout",
     "output_type": "stream",
     "text": [
      "Limit Value: 0.654112\n",
      "RVALUE: 0.300000\n",
      "Stable Choice of weights,h,dt and vel!\n",
      "\n"
     ]
    },
    {
     "name": "stderr",
     "output_type": "stream",
     "text": [
      "Operator `Kernel` ran in 0.03 s\n"
     ]
    },
    {
     "name": "stdout",
     "output_type": "stream",
     "text": [
      "Limit Value: 0.640385\n",
      "RVALUE: 0.300000\n",
      "Stable Choice of weights,h,dt and vel!\n",
      "\n"
     ]
    },
    {
     "name": "stderr",
     "output_type": "stream",
     "text": [
      "Operator `Kernel` ran in 0.03 s\n"
     ]
    },
    {
     "name": "stdout",
     "output_type": "stream",
     "text": [
      "Limit Value: 0.630701\n",
      "RVALUE: 0.300000\n",
      "Stable Choice of weights,h,dt and vel!\n",
      "\n"
     ]
    },
    {
     "name": "stderr",
     "output_type": "stream",
     "text": [
      "Operator `Kernel` ran in 0.03 s\n"
     ]
    },
    {
     "name": "stdout",
     "output_type": "stream",
     "text": [
      "Limit Value: 0.623438\n",
      "RVALUE: 0.300000\n",
      "Stable Choice of weights,h,dt and vel!\n",
      "\n"
     ]
    },
    {
     "name": "stderr",
     "output_type": "stream",
     "text": [
      "Operator `Kernel` ran in 0.04 s\n"
     ]
    },
    {
     "name": "stdout",
     "output_type": "stream",
     "text": [
      "Limit Value: 0.617750\n",
      "RVALUE: 0.300000\n",
      "Stable Choice of weights,h,dt and vel!\n",
      "\n"
     ]
    },
    {
     "name": "stderr",
     "output_type": "stream",
     "text": [
      "Operator `Kernel` ran in 0.05 s\n"
     ]
    },
    {
     "name": "stdout",
     "output_type": "stream",
     "text": [
      "Limit Value: 0.613151\n",
      "RVALUE: 0.300000\n",
      "Stable Choice of weights,h,dt and vel!\n",
      "\n"
     ]
    },
    {
     "name": "stderr",
     "output_type": "stream",
     "text": [
      "Operator `Kernel` ran in 0.06 s\n"
     ]
    },
    {
     "name": "stdout",
     "output_type": "stream",
     "text": [
      "Limit Value: 0.609340\n",
      "RVALUE: 0.300000\n",
      "Stable Choice of weights,h,dt and vel!\n",
      "\n"
     ]
    }
   ],
   "source": [
    "ludrp2   = []\n",
    "lrecdrp2 = []\n",
    "lrdrp2   = []\n",
    "\n",
    "for k1 in range(0,nmavlues):\n",
    "\n",
    "    M = k1+1\n",
    "    x = [(1-(-1)**n*(2*n+1))//4 for n in range(2*M + 1)]\n",
    "    N = 2\n",
    "    weights     = sym.finite_diff_weights(N, x, 0)\n",
    "    fornberg    = np.array(weights[-1][-1][::2], dtype=np.float64)\n",
    "    \n",
    "    initial_guess = fornberg\n",
    "    \n",
    "    objective2_wrapper = partial(objective2, h=h, dt=dtnew)\n",
    "    opt2 = sp.optimize.minimize(objective2_wrapper, initial_guess, constraints=constraints, method='SLSQP')\n",
    "    drp_stencil2 = opt2.x\n",
    "    uf,dataf,rf = acoustic(drp_stencil2,h,dtnew,vval,f0,extent,t1)\n",
    "\n",
    "    ludrp2.append(uf)\n",
    "    lrecdrp2.append(dataf)\n",
    "    lrdrp2.append(rf)\n",
    "    critical_cfl(drp_stencil2,h,dtnew,vval)"
   ]
  },
  {
   "cell_type": "code",
   "execution_count": 32,
   "metadata": {},
   "outputs": [],
   "source": [
    "lnormudrp2   = []\n",
    "lnormrecdrp2 = []\n",
    "\n",
    "for k0 in range(0,nmavlues):\n",
    "    \n",
    "    difu   = luref[0] - ludrp2[k0]\n",
    "    lnormu = la.norm(difu,normtype)/la.norm(luref[0],normtype)\n",
    "\n",
    "    difrec   = lrecref[0] - lrecdrp2[k0]\n",
    "    lnormrec = la.norm(difrec,normtype)/la.norm(lrecref[0],normtype)\n",
    "\n",
    "    ctedt = np.sqrt(16/1)\n",
    "    ctedx = 16/1\n",
    "    cte   = ctedt*ctedx\n",
    "    \n",
    "    lnormudrp2.append(cte*lnormu)\n",
    "    lnormrecdrp2.append(cte*lnormrec)"
   ]
  },
  {
   "cell_type": "code",
   "execution_count": 33,
   "metadata": {},
   "outputs": [
    {
     "data": {
      "image/png": "[encoded data removed]",
      "text/plain": [
       "<Figure size 500x400 with 1 Axes>"
      ]
     },
     "metadata": {},
     "output_type": "display_data"
    }
   ],
   "source": [
    "plt.figure(figsize = (5,4))\n",
    "plt.plot(mvalues,lnormudrp2,label='DRP2')\n",
    "plt.grid()\n",
    "plt.legend()\n",
    "plt.title('Erro for M - DRP2 - Displacement')\n",
    "plt.xlabel('[rvalue]')\n",
    "plt.ylabel('[Error]')\n",
    "plt.show()"
   ]
  },
  {
   "cell_type": "code",
   "execution_count": 34,
   "metadata": {},
   "outputs": [
    {
     "data": {
      "text/plain": [
       "Text(0, 0.5, '[Error]')"
      ]
     },
     "execution_count": 34,
     "metadata": {},
     "output_type": "execute_result"
    },
    {
     "data": {
      "image/png": "[encoded data removed]",
      "text/plain": [
       "<Figure size 500x400 with 1 Axes>"
      ]
     },
     "metadata": {},
     "output_type": "display_data"
    }
   ],
   "source": [
    "plt.figure(figsize = (5,4))\n",
    "plt.plot(mvalues,lnormrecdrp2,label='DRP2')\n",
    "plt.grid()\n",
    "plt.legend()\n",
    "plt.title('Erro for M - DRP2 - Receivers')\n",
    "plt.xlabel('[rvalue]')\n",
    "plt.ylabel('[Error]')"
   ]
  },
  {
   "cell_type": "markdown",
   "metadata": {},
   "source": [
    "## 5. Comparison"
   ]
  },
  {
   "cell_type": "code",
   "execution_count": 35,
   "metadata": {},
   "outputs": [
    {
     "data": {
      "text/plain": [
       "[np.float64(107.84102785544718),\n",
       " np.float64(70.44865923539926),\n",
       " np.float64(64.75645433648037),\n",
       " np.float64(63.96431279040735),\n",
       " np.float64(63.63457963208943),\n",
       " np.float64(63.439005681243344),\n",
       " np.float64(63.30861093008276),\n",
       " np.float64(63.2147007293116),\n",
       " np.float64(63.13955554361231),\n",
       " np.float64(63.08383285197495)]"
      ]
     },
     "execution_count": 35,
     "metadata": {},
     "output_type": "execute_result"
    }
   ],
   "source": [
    "lnormuf"
   ]
  },
  {
   "cell_type": "code",
   "execution_count": 36,
   "metadata": {},
   "outputs": [
    {
     "data": {
      "text/plain": [
       "[np.float64(107.84102785544718),\n",
       " np.float64(50.42279150315021),\n",
       " np.float64(66.83178724680994),\n",
       " np.float64(63.79109105814012),\n",
       " np.float64(63.28018224993614),\n",
       " np.float64(63.886178108198514),\n",
       " np.float64(63.30861093008276),\n",
       " np.float64(63.2147007293116),\n",
       " np.float64(63.13955554361231),\n",
       " np.float64(63.08383285197495)]"
      ]
     },
     "execution_count": 36,
     "metadata": {},
     "output_type": "execute_result"
    }
   ],
   "source": [
    "lnormudrp1"
   ]
  },
  {
   "cell_type": "code",
   "execution_count": 37,
   "metadata": {},
   "outputs": [
    {
     "data": {
      "text/plain": [
       "[np.float64(107.84102785544718),\n",
       " np.float64(70.44865923539926),\n",
       " np.float64(64.75645433648037),\n",
       " np.float64(63.96431279040735),\n",
       " np.float64(63.63457963208943),\n",
       " np.float64(63.439005681243344),\n",
       " np.float64(63.30861093008276),\n",
       " np.float64(63.2147007293116),\n",
       " np.float64(63.13955554361231),\n",
       " np.float64(63.08383285197495)]"
      ]
     },
     "execution_count": 37,
     "metadata": {},
     "output_type": "execute_result"
    }
   ],
   "source": [
    "lnormudrp2"
   ]
  },
  {
   "cell_type": "code",
   "execution_count": 38,
   "metadata": {},
   "outputs": [
    {
     "data": {
      "image/png": "[encoded data removed]",
      "text/plain": [
       "<Figure size 500x400 with 1 Axes>"
      ]
     },
     "metadata": {},
     "output_type": "display_data"
    }
   ],
   "source": [
    "plt.figure(figsize = (5,4))\n",
    "plt.plot(mvalues,lnormuf,label='Fornberg')\n",
    "plt.plot(mvalues,lnormudrp1,label='DRP1')\n",
    "plt.plot(mvalues,lnormudrp2,label='DRP2')\n",
    "plt.grid()\n",
    "plt.legend()\n",
    "plt.title('Erro for M - Displacement')\n",
    "plt.xlabel('[rvalue]')\n",
    "plt.ylabel('[Error]')\n",
    "plt.yscale('log')\n",
    "plt.show()"
   ]
  },
  {
   "cell_type": "code",
   "execution_count": 39,
   "metadata": {},
   "outputs": [
    {
     "data": {
      "text/plain": [
       "[np.float64(59.77672523864989),\n",
       " np.float64(37.17372350914245),\n",
       " np.float64(34.426929017209126),\n",
       " np.float64(33.87521326051193),\n",
       " np.float64(33.64892345692757),\n",
       " np.float64(33.51917500473906),\n",
       " np.float64(33.43295844032726),\n",
       " np.float64(33.37104024494981),\n",
       " np.float64(33.32368899847325),\n",
       " np.float64(33.28740098166589)]"
      ]
     },
     "execution_count": 39,
     "metadata": {},
     "output_type": "execute_result"
    }
   ],
   "source": [
    "lnormrecf"
   ]
  },
  {
   "cell_type": "code",
   "execution_count": 40,
   "metadata": {},
   "outputs": [
    {
     "data": {
      "text/plain": [
       "[np.float64(59.77672523864989),\n",
       " np.float64(33.03718607937721),\n",
       " np.float64(34.097941385654096),\n",
       " np.float64(33.647247728353754),\n",
       " np.float64(33.44254057695414),\n",
       " np.float64(33.56625320589382),\n",
       " np.float64(33.43295844032726),\n",
       " np.float64(33.37104024494981),\n",
       " np.float64(33.32368899847325),\n",
       " np.float64(33.28740098166589)]"
      ]
     },
     "execution_count": 40,
     "metadata": {},
     "output_type": "execute_result"
    }
   ],
   "source": [
    "lnormrecdrp1"
   ]
  },
  {
   "cell_type": "code",
   "execution_count": 41,
   "metadata": {},
   "outputs": [
    {
     "data": {
      "text/plain": [
       "[np.float64(59.77672523864989),\n",
       " np.float64(37.17372350914245),\n",
       " np.float64(34.426929017209126),\n",
       " np.float64(33.87521326051193),\n",
       " np.float64(33.64892345692757),\n",
       " np.float64(33.51917500473906),\n",
       " np.float64(33.43295844032726),\n",
       " np.float64(33.37104024494981),\n",
       " np.float64(33.32368899847325),\n",
       " np.float64(33.28740098166589)]"
      ]
     },
     "execution_count": 41,
     "metadata": {},
     "output_type": "execute_result"
    }
   ],
   "source": [
    "lnormrecdrp2"
   ]
  },
  {
   "cell_type": "code",
   "execution_count": 42,
   "metadata": {},
   "outputs": [
    {
     "data": {
      "image/png": "[encoded data removed]",
      "text/plain": [
       "<Figure size 500x400 with 1 Axes>"
      ]
     },
     "metadata": {},
     "output_type": "display_data"
    }
   ],
   "source": [
    "plt.figure(figsize = (5,4))\n",
    "plt.plot(mvalues,lnormrecf,label='Fornberg')\n",
    "plt.plot(mvalues,lnormrecdrp1,label='DRP1')\n",
    "plt.plot(mvalues,lnormrecdrp1,label='DRP2')\n",
    "plt.grid()\n",
    "plt.legend()\n",
    "plt.title('Erro for M - Receivers')\n",
    "plt.xlabel('[rvalue]')\n",
    "plt.ylabel('[Error]')\n",
    "plt.yscale('log')\n",
    "plt.show()"
   ]
  },
  {
   "cell_type": "code",
   "execution_count": null,
   "metadata": {},
   "outputs": [],
   "source": []
  },
  {
   "cell_type": "code",
   "execution_count": null,
   "metadata": {},
   "outputs": [],
   "source": []
  },
  {
   "cell_type": "code",
   "execution_count": null,
   "metadata": {},
   "outputs": [],
   "source": []
  }
 ],
 "metadata": {
  "kernelspec": {
   "display_name": "Python 3 (ipykernel)",
   "language": "python",
   "name": "python3"
  },
  "language_info": {
   "codemirror_mode": {
    "name": "ipython",
    "version": 3
   },
   "file_extension": ".py",
   "mimetype": "text/x-python",
   "name": "python",
   "nbconvert_exporter": "python",
   "pygments_lexer": "ipython3",
   "version": "3.12.8"
  }
 },
 "nbformat": 4,
 "nbformat_minor": 4
}
